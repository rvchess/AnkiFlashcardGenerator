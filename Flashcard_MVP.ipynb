{
 "cells": [
  {
   "cell_type": "code",
   "execution_count": 1,
   "id": "52f7d978-1a23-4818-917e-4f60f446aa2c",
   "metadata": {},
   "outputs": [
    {
     "name": "stdout",
     "output_type": "stream",
     "text": [
      "got list of decks: ['-An Verbs in Tagalog', 'Adjectives in Tagalog', 'Default', 'test1']\n"
     ]
    }
   ],
   "source": [
    "import json\n",
    "import urllib.request\n",
    "from unidecode import unidecode\n",
    "\n",
    "def request(action, **params):\n",
    "    return {'action': action, 'params': params, 'version': 6}\n",
    "\n",
    "def invoke(action, **params):\n",
    "    requestJson = json.dumps(request(action, **params)).encode('utf-8')\n",
    "    response = json.load(urllib.request.urlopen(urllib.request.Request('http://127.0.0.1:8765', requestJson)))\n",
    "    if len(response) != 2:\n",
    "        raise Exception('response has an unexpected number of fields')\n",
    "    if 'error' not in response:\n",
    "        raise Exception('response is missing required error field')\n",
    "    if 'result' not in response:\n",
    "        raise Exception('response is missing required result field')\n",
    "    if response['error'] is not None:\n",
    "        raise Exception(response['error'])\n",
    "    return response['result']\n",
    "\n",
    "invoke('createDeck', deck='test1')\n",
    "result = invoke('deckNames')\n",
    "print('got list of decks: {}'.format(result))"
   ]
  },
  {
   "cell_type": "code",
   "execution_count": 36,
   "id": "fdc1e449-f689-4064-886e-d6fee2888afd",
   "metadata": {},
   "outputs": [],
   "source": [
    "from selenium import webdriver\n",
    "from webdriver_manager.chrome import ChromeDriverManager"
   ]
  },
  {
   "cell_type": "code",
   "execution_count": 37,
   "id": "6be1e54b-0861-4169-87bc-62be1165c40e",
   "metadata": {},
   "outputs": [],
   "source": [
    "from selenium import webdriver\n",
    "from selenium.webdriver.chrome.service import Service\n",
    "from selenium.webdriver.chrome.options import Options\n",
    "from selenium.webdriver.common.by import By\n",
    "from selenium.webdriver.support.ui import WebDriverWait\n",
    "from selenium.webdriver.support import expected_conditions as EC\n",
    "from bs4 import BeautifulSoup\n",
    "\n",
    "import requests\n",
    "from bs4 import BeautifulSoup"
   ]
  },
  {
   "cell_type": "code",
   "execution_count": 39,
   "id": "c0992693-f85b-4910-95ce-4dae72361526",
   "metadata": {},
   "outputs": [],
   "source": [
    "#driver = webdriver.Chrome(ChromeDriverManager().install())"
   ]
  },
  {
   "cell_type": "code",
   "execution_count": 3,
   "id": "0608e98c-f39d-4c42-b1f0-923fbac1198b",
   "metadata": {},
   "outputs": [],
   "source": [
    "import requests\n",
    "from bs4 import BeautifulSoup"
   ]
  },
  {
   "cell_type": "code",
   "execution_count": 4,
   "id": "706952f4-7f95-4a8b-868c-7e3070c65d28",
   "metadata": {},
   "outputs": [],
   "source": [
    "from IPython.display import HTML"
   ]
  },
  {
   "cell_type": "code",
   "execution_count": 5,
   "id": "1357c7db-57a4-41e4-81ab-4e88f5e7bfe8",
   "metadata": {},
   "outputs": [],
   "source": [
    "import re\n",
    "\n",
    "regex = re.compile('[^a-zA-Z]')"
   ]
  },
  {
   "cell_type": "code",
   "execution_count": 6,
   "id": "6de7f7f8-7f0a-47cf-86a7-ad72a5be90ae",
   "metadata": {},
   "outputs": [
    {
     "data": {
      "text/plain": [
       "['-An Verbs in Tagalog', 'Adjectives in Tagalog', 'Default', 'test1']"
      ]
     },
     "execution_count": 6,
     "metadata": {},
     "output_type": "execute_result"
    }
   ],
   "source": [
    "result"
   ]
  },
  {
   "cell_type": "code",
   "execution_count": 7,
   "id": "b24a762b-ef50-489b-b7fb-6d6bd2b93e99",
   "metadata": {},
   "outputs": [],
   "source": [
    "find_cards_params = {\n",
    "    \"query\": \"deck:current\"\n",
    "}"
   ]
  },
  {
   "cell_type": "code",
   "execution_count": 8,
   "id": "77b2b9d7-c13f-4afe-a78b-93df51b8e76e",
   "metadata": {},
   "outputs": [
    {
     "name": "stdout",
     "output_type": "stream",
     "text": [
      "got list of card IDs: [1718165006067, 1718165399899, 1718165403407, 1718165448684, 1718165451131, 1718165453904, 1718165456450, 1718165459000, 1718165463000, 1718165465879, 1718165468749, 1718165471201, 1718165473598, 1718165476152, 1718165478677, 1718165834427, 1718165837393, 1718165840447, 1718165842893, 1718166264873, 1718166267372, 1718166270247, 1718166272974, 1718166486163, 1718166500919, 1718166503518, 1718166506643, 1718166534070, 1718166851349, 1718166854219, 1718166856891, 1718166859543, 1718166862788, 1718166866274, 1718166868919, 1718166871493, 1718166874108, 1718166876835, 1718166879482, 1718166882189, 1718166884939, 1718166887889, 1718166890445, 1718166892939, 1718166895568, 1718166898165, 1718166900739, 1718166903365, 1718166906008, 1718166908691, 1718166911294, 1718166913788, 1718166916332, 1718166918919, 1718166921484, 1718166923985, 1718167123655, 1718167126358, 1718167128838, 1718167739338, 1718167742007, 1718167744650, 1718167784456, 1718167787474, 1718167790127, 1718167792636, 1718168610822, 1718168613394, 1718168616589, 1718168619464, 1718168622106, 1718168624558, 1718168627132, 1718168631586, 1718168634209, 1718168636953, 1718168639611, 1718168642256, 1718168735624, 1718169071753, 1718169150207, 1718169152677, 1718169155379, 1718169157955, 1718169160422, 1718169163084, 1718169165629, 1718169168806, 1718169171682, 1718169174434, 1718169347727, 1718169351847, 1718169354396, 1718169357060, 1718169359722, 1718169362373, 1718169364872, 1718169367530, 1718169370266, 1718169373055, 1718169376727, 1718169456175, 1718169461219, 1718169464000, 1718169467056, 1718169825964, 1718169828766, 1718169831616, 1718170129822, 1718170132445, 1718170135119, 1718170137896, 1718170140378, 1718170142996, 1718170192344, 1718170244995, 1718170247873, 1718170250295, 1718170252903, 1718170339591, 1718170342054, 1718170344955, 1718170347795, 1718170350482, 1718170353022, 1718170355600, 1718170358121, 1718170382922, 1718170385590, 1718170388218, 1718170390922, 1718170393468, 1718170395999, 1718170670553]\n"
     ]
    }
   ],
   "source": [
    "result = invoke('findCards', **find_cards_params)\n",
    "print('got list of card IDs: {}'.format(result))"
   ]
  },
  {
   "cell_type": "code",
   "execution_count": 9,
   "id": "4f0a9d9e-5195-4bb5-859f-d2ebbde33f19",
   "metadata": {},
   "outputs": [],
   "source": [
    "cards_info_params = {\n",
    "    \"cards\": result\n",
    "}\n",
    "cards_info_result = invoke('cardsInfo', **cards_info_params)"
   ]
  },
  {
   "cell_type": "code",
   "execution_count": 10,
   "id": "44ce48e0-4b76-46b0-92dd-6c6d3691bd71",
   "metadata": {},
   "outputs": [
    {
     "data": {
      "text/plain": [
       "'pangit'"
      ]
     },
     "execution_count": 10,
     "metadata": {},
     "output_type": "execute_result"
    }
   ],
   "source": [
    "#cards_info_result[10]['fields']['Front']['value'].split('<br>', 1)[0]\n",
    "unidecode(re.sub(r'<[^>]*>', '', cards_info_result[2]['fields']['Front']['value'].split('<br>', 1)[0]).strip())"
   ]
  },
  {
   "cell_type": "code",
   "execution_count": 11,
   "id": "1ccac5f7-b23b-48fa-bf9a-da424685c54a",
   "metadata": {},
   "outputs": [],
   "source": [
    "def check_if_word_exists(input_word):\n",
    "    find_cards_params = {\n",
    "    \"query\": \"deck:current\"\n",
    "    }\n",
    "    result = invoke('findCards', **find_cards_params)\n",
    "    cards_info_params = {\n",
    "    \"cards\": result\n",
    "    }\n",
    "    cards_info_result = invoke('cardsInfo', **cards_info_params)\n",
    "    for c in range(0, len(result)):\n",
    "        curr_word = unidecode(re.sub(r'<[^>]*>', '', cards_info_result[c]['fields']['Front']['value'].split('<br>', 1)[0]).strip())\n",
    "        if (input_word == curr_word.strip()) or (input_word == curr_word.replace('-', '').strip()) or (input_word.replace('-', ' ').strip() == curr_word):\n",
    "            return True\n",
    "    return False\n"
   ]
  },
  {
   "cell_type": "code",
   "execution_count": 12,
   "id": "c6f5d877-6ffc-443d-b9d8-55774d247b44",
   "metadata": {},
   "outputs": [
    {
     "data": {
      "text/plain": [
       "False"
      ]
     },
     "execution_count": 12,
     "metadata": {},
     "output_type": "execute_result"
    }
   ],
   "source": [
    "check_if_word_exists('walisan')"
   ]
  },
  {
   "cell_type": "code",
   "execution_count": 14,
   "id": "092b8513-e68c-4e30-bbcf-e2723cd79792",
   "metadata": {},
   "outputs": [
    {
     "ename": "Exception",
     "evalue": "cannot create note because it is a duplicate",
     "output_type": "error",
     "traceback": [
      "\u001b[0;31m---------------------------------------------------------------------------\u001b[0m",
      "\u001b[0;31mException\u001b[0m                                 Traceback (most recent call last)",
      "Cell \u001b[0;32mIn[14], line 18\u001b[0m\n\u001b[1;32m      8\u001b[0m add_note_params \u001b[38;5;241m=\u001b[39m {\n\u001b[1;32m      9\u001b[0m     \u001b[38;5;124m'\u001b[39m\u001b[38;5;124mnote\u001b[39m\u001b[38;5;124m'\u001b[39m: {\n\u001b[1;32m     10\u001b[0m         \u001b[38;5;124m'\u001b[39m\u001b[38;5;124mdeckName\u001b[39m\u001b[38;5;124m'\u001b[39m: \u001b[38;5;124m'\u001b[39m\u001b[38;5;124mtest1\u001b[39m\u001b[38;5;124m'\u001b[39m,  \u001b[38;5;66;03m# Deck where the new card will be added\u001b[39;00m\n\u001b[0;32m   (...)\u001b[0m\n\u001b[1;32m     13\u001b[0m             }\n\u001b[1;32m     14\u001b[0m     }\n\u001b[1;32m     17\u001b[0m \u001b[38;5;66;03m# Add the new note to the deck\u001b[39;00m\n\u001b[0;32m---> 18\u001b[0m \u001b[43minvoke\u001b[49m\u001b[43m(\u001b[49m\u001b[38;5;124;43m'\u001b[39;49m\u001b[38;5;124;43maddNote\u001b[39;49m\u001b[38;5;124;43m'\u001b[39;49m\u001b[43m,\u001b[49m\u001b[43m \u001b[49m\u001b[38;5;241;43m*\u001b[39;49m\u001b[38;5;241;43m*\u001b[39;49m\u001b[43madd_note_params\u001b[49m\u001b[43m)\u001b[49m\n",
      "Cell \u001b[0;32mIn[1], line 18\u001b[0m, in \u001b[0;36minvoke\u001b[0;34m(action, **params)\u001b[0m\n\u001b[1;32m     16\u001b[0m     \u001b[38;5;28;01mraise\u001b[39;00m \u001b[38;5;167;01mException\u001b[39;00m(\u001b[38;5;124m'\u001b[39m\u001b[38;5;124mresponse is missing required result field\u001b[39m\u001b[38;5;124m'\u001b[39m)\n\u001b[1;32m     17\u001b[0m \u001b[38;5;28;01mif\u001b[39;00m response[\u001b[38;5;124m'\u001b[39m\u001b[38;5;124merror\u001b[39m\u001b[38;5;124m'\u001b[39m] \u001b[38;5;129;01mis\u001b[39;00m \u001b[38;5;129;01mnot\u001b[39;00m \u001b[38;5;28;01mNone\u001b[39;00m:\n\u001b[0;32m---> 18\u001b[0m     \u001b[38;5;28;01mraise\u001b[39;00m \u001b[38;5;167;01mException\u001b[39;00m(response[\u001b[38;5;124m'\u001b[39m\u001b[38;5;124merror\u001b[39m\u001b[38;5;124m'\u001b[39m])\n\u001b[1;32m     19\u001b[0m \u001b[38;5;28;01mreturn\u001b[39;00m response[\u001b[38;5;124m'\u001b[39m\u001b[38;5;124mresult\u001b[39m\u001b[38;5;124m'\u001b[39m]\n",
      "\u001b[0;31mException\u001b[0m: cannot create note because it is a duplicate"
     ]
    }
   ],
   "source": [
    "new_card_data = {\n",
    "    'Front': '<span style=\"color:#7EC8E3; font-weight:bold; font-size:18px;\">[verb]</span>  to allow something; to let something be; to tolerate something; to let someone/something do something; to leave something; to not disturb something; to let something happen; to never mind something',\n",
    "    'Back': 'to skin something; to peel something; to pare something (remove the skin); to de-skin something'\n",
    "}\n",
    "\n",
    "\n",
    "\n",
    "add_note_params = {\n",
    "    'note': {\n",
    "        'deckName': 'test1', \n",
    "        'modelName': 'Basic',\n",
    "        'fields': new_card_data\n",
    "            }\n",
    "    }\n",
    "\n",
    "\n",
    "\n",
    "invoke('addNote', **add_note_params)"
   ]
  },
  {
   "cell_type": "markdown",
   "id": "9590c32f-7579-4a97-a437-ecfff425f414",
   "metadata": {},
   "source": [
    "# Beautiful Soup Parsing Section"
   ]
  },
  {
   "cell_type": "markdown",
   "id": "bf8141fd-36b4-4c2d-af7c-638a346cbfd0",
   "metadata": {},
   "source": [
    "# NEXT STEPS:\n",
    "1. create function based on above block to find the correct word link based on matching part of speech. A simple search through the parent div for [verb], [noun], [adjective] etc. will do. Return the link to the corresponding page\n",
    "2. Then Create the function which pull relevant data from word-specific page and returns it\n",
    "3. Then create function which adds new card to deck based on previous function\n",
    "   "
   ]
  },
  {
   "cell_type": "code",
   "execution_count": 15,
   "id": "fff8d4e0-ff39-48f5-8240-82aed12e42e9",
   "metadata": {},
   "outputs": [],
   "source": [
    "def retrieve_word_html(url):\n",
    "    thisurl = url\n",
    "    page = requests.get(thisurl)\n",
    "    soup = BeautifulSoup(page.text, 'html')\n",
    "    response = requests.get(url)\n",
    "    html_content = response.text\n",
    "\n",
    "    \n",
    "    soup = BeautifulSoup(html_content, 'html.parser')\n",
    "    return soup"
   ]
  },
  {
   "cell_type": "code",
   "execution_count": 16,
   "id": "f183ab93-3149-4710-aa12-5bbe5e47fe04",
   "metadata": {},
   "outputs": [],
   "source": [
    "def mine_word(page_html):\n",
    "    soup = page_html\n",
    "    html_string_word = str(soup.find(\"b\", {\"id\": \"wordbox\"}))\n",
    "    print(html_string_word)\n",
    "    split_result_word = html_string_word.split(';\">')\n",
    "    \n",
    "    \n",
    "    desired_text_word = split_result_word[1]\n",
    "    \n",
    "    \n",
    "    end_index_word = desired_text_word.find('</b>')\n",
    "    \n",
    "    \n",
    "    extracted_text_word = desired_text_word[:end_index_word]\n",
    "    \n",
    "    extracted_text_word = extracted_text_word.strip()\n",
    "    return extracted_text_word"
   ]
  },
  {
   "cell_type": "code",
   "execution_count": 17,
   "id": "48e10ce3-b0ee-460e-a0c5-39b8480dcfd0",
   "metadata": {},
   "outputs": [],
   "source": [
    "def part_of_speech_function(page_html):\n",
    "    #CHECK IF WORD IS VERB, if so, initialize html for [verb] element\n",
    "    soup = page_html\n",
    "    type_of_speech = regex.sub('', soup.find(\"div\", {\"id\": \"definitionbox\"}).find('span').get_text(strip=True))\n",
    "    if type_of_speech == '':\n",
    "        type_of_speech = regex.sub('', soup.find(\"div\", {\"id\": \"definitionbox\"}).find_all('span')[1].get_text(strip=True))\n",
    "    if  type_of_speech == 'verb':\n",
    "        part_of_speech = '<span style=\"color:#7EC8E3; font-weight:bold; font-size:22px;\">[verb]</span>'\n",
    "    elif type_of_speech == 'noun':\n",
    "        part_of_speech = '<span style=\"color:#7EC8E3; font-weight:bold; font-size:22px;\">[noun]</span>'\n",
    "    elif type_of_speech == 'adjective':\n",
    "        part_of_speech = '<span style=\"color:#7EC8E3; font-weight:bold; font-size:22px;\">[adjective]</span>'\n",
    "    else:\n",
    "        return type_of_speech, None\n",
    "    return type_of_speech, part_of_speech\n",
    "    "
   ]
  },
  {
   "cell_type": "code",
   "execution_count": 18,
   "id": "3588155c-cfce-464e-bfde-3bbedd2d4d6f",
   "metadata": {},
   "outputs": [],
   "source": [
    "def extract_tenses_and_conjugations(page_html):\n",
    "    soup = page_html\n",
    "    conjugation_table = soup.find(\"div\", {\"class\":\"bigscreenonly\"})\n",
    "    \n",
    "    for audio in conjugation_table.find_all('audio'):\n",
    "        audio.extract()\n",
    "    for img in conjugation_table.find_all('img'):\n",
    "        img.extract()\n",
    "    for a in conjugation_table.find_all('a'):\n",
    "        del a['href']\n",
    "    \n",
    "    soup = conjugation_table\n",
    "    \n",
    "    headers = soup.find_all(class_='aspect-table-header')\n",
    "    #\"\"\"<span style=\"color:#f2f2dd; font-weight:bold; font-size:22px;\">\"\"\" + Conjugation Type + \"\"\"</span>\"\"\"\n",
    "    tenses = [\"\"\"<span style=\"color:#f2f2dd; font-weight:bold; font-size:22px;\">\"\"\" + header.get_text(strip=True) + \"\"\"</span>\"\"\" for header in headers]\n",
    "    \n",
    "    \n",
    "    entries = soup.find_all(class_='aspect-table-entry')\n",
    "    conjugations = [entry.find('a').prettify() for entry in entries]\n",
    "    \n",
    "    return tenses, conjugations"
   ]
  },
  {
   "cell_type": "code",
   "execution_count": 19,
   "id": "568c1559-a818-4d10-93a3-3e14a8b98d04",
   "metadata": {},
   "outputs": [],
   "source": [
    "#a,b = extract_tenses_and_conjugations(retrieve_word_html(url))"
   ]
  },
  {
   "cell_type": "code",
   "execution_count": 20,
   "id": "a9c7bde3-9906-4cf6-8899-63ef806ffd7a",
   "metadata": {},
   "outputs": [],
   "source": [
    "def extract_focus(page_html):\n",
    "    soup = page_html\n",
    "    #extracted_text_focus = soup.find('span', class_='conjugation-detail-content').get_text(strip=True)\n",
    "    try:\n",
    "        extracted_text_focus = soup.find('span', class_='conjugation-detail').find('span', class_='conjugation-detail-content').get_text(strip=True)\n",
    "    except:\n",
    "        print('no focus found!')\n",
    "        return None\n",
    "    if '-An' == str(extracted_text_focus):\n",
    "        return None\n",
    "    return extracted_text_focus"
   ]
  },
  {
   "cell_type": "code",
   "execution_count": 21,
   "id": "f4eae8d1-e27e-4ab2-a835-ba6990402b10",
   "metadata": {},
   "outputs": [],
   "source": [
    "def extract_root(page_html):\n",
    "    soup = page_html\n",
    "    extracted_text_root = soup.find('a', class_='conjugation-detail').find('span', class_='conjugation-detail-content').get_text(strip=True)\n",
    "    return extracted_text_root"
   ]
  },
  {
   "cell_type": "code",
   "execution_count": 22,
   "id": "41be03ed-fedb-43b6-a359-531eba883b89",
   "metadata": {},
   "outputs": [
    {
     "ename": "NameError",
     "evalue": "name 'soup' is not defined",
     "output_type": "error",
     "traceback": [
      "\u001b[0;31m---------------------------------------------------------------------------\u001b[0m",
      "\u001b[0;31mNameError\u001b[0m                                 Traceback (most recent call last)",
      "Cell \u001b[0;32mIn[22], line 1\u001b[0m\n\u001b[0;32m----> 1\u001b[0m extracted_text_focus \u001b[38;5;241m=\u001b[39m \u001b[43msoup\u001b[49m\u001b[38;5;241m.\u001b[39mfind(\u001b[38;5;124m'\u001b[39m\u001b[38;5;124mspan\u001b[39m\u001b[38;5;124m'\u001b[39m, class_\u001b[38;5;241m=\u001b[39m\u001b[38;5;124m'\u001b[39m\u001b[38;5;124mconjugation-detail-content\u001b[39m\u001b[38;5;124m'\u001b[39m)\u001b[38;5;241m.\u001b[39mget_text(strip\u001b[38;5;241m=\u001b[39m\u001b[38;5;28;01mTrue\u001b[39;00m)\n\u001b[1;32m      2\u001b[0m extracted_text_root \u001b[38;5;241m=\u001b[39m soup\u001b[38;5;241m.\u001b[39mfind(\u001b[38;5;124m'\u001b[39m\u001b[38;5;124ma\u001b[39m\u001b[38;5;124m'\u001b[39m, class_\u001b[38;5;241m=\u001b[39m\u001b[38;5;124m'\u001b[39m\u001b[38;5;124mconjugation-detail\u001b[39m\u001b[38;5;124m'\u001b[39m)\u001b[38;5;241m.\u001b[39mfind(\u001b[38;5;124m'\u001b[39m\u001b[38;5;124mspan\u001b[39m\u001b[38;5;124m'\u001b[39m, class_\u001b[38;5;241m=\u001b[39m\u001b[38;5;124m'\u001b[39m\u001b[38;5;124mconjugation-detail-content\u001b[39m\u001b[38;5;124m'\u001b[39m)\u001b[38;5;241m.\u001b[39mget_text(strip\u001b[38;5;241m=\u001b[39m\u001b[38;5;28;01mTrue\u001b[39;00m)\n",
      "\u001b[0;31mNameError\u001b[0m: name 'soup' is not defined"
     ]
    }
   ],
   "source": [
    "extracted_text_focus = soup.find('span', class_='conjugation-detail-content').get_text(strip=True)\n",
    "extracted_text_root = soup.find('a', class_='conjugation-detail').find('span', class_='conjugation-detail-content').get_text(strip=True)"
   ]
  },
  {
   "cell_type": "code",
   "execution_count": 23,
   "id": "0030e233-4bf8-49e2-9f3d-8cf8d0b980a0",
   "metadata": {},
   "outputs": [],
   "source": [
    "#if type_of_speech == 'verb':\n",
    "#    extracted_text_conjugationtype = soup.find_all('span', class_='conjugation-detail')[1].find('span', class_='conjugation-detail-content').get_text(strip=True)\n",
    "#else:\n",
    "#    extracted_text_conjugationtype = None"
   ]
  },
  {
   "cell_type": "code",
   "execution_count": 24,
   "id": "6667c352-9ce9-430e-821c-8ca5c60efc15",
   "metadata": {},
   "outputs": [],
   "source": [
    "# TABLE VERSION BROTHA re.sub(r'(?<!<)\\s+(?![^<>]*>)', '', b[0].replace('\\n', '').replace('15px', '20px'))\n",
    "def create_back_of_card(conjugation_list, definition):\n",
    "    extracted_text_definition = definition\n",
    "    b = conjugation_list\n",
    "    base_string_one = \"\"\"<table>\n",
    "  <tr>\n",
    "    <th style=\"text-align: center\";font-size:40px;>Infinitive</th>\n",
    "    <th style=\"text-align: center\">Completed (Past)</th>\n",
    "    <th style=\"text-align: center\">Uncompleted (Present)</th>\n",
    "    <th style=\"text-align: center\">Contemplated (Future)</th>\n",
    "  </tr>\n",
    "  <tr>\n",
    "    <td style=\"text-align: center\">{0}</td>\n",
    "    <td style=\"text-align: center\">{1}</td>\n",
    "    <td style=\"text-align: center\">{2}</td>\n",
    "    <td style=\"text-align: center\">{3}</td>\n",
    "  </tr>\n",
    "</table>\"\"\".format(re.sub(r'(?<!<)\\s+(?![^<>]*>)', '', b[0].replace('\\n', '').replace('15px', '16px')), re.sub(r'(?<!<)\\s+(?![^<>]*>)', '', b[1].replace('\\n', '').replace('15px', '16px')), re.sub(r'(?<!<)\\s+(?![^<>]*>)', '', b[2].replace('\\n', '').replace('15px', '16px')), re.sub(r'(?<!<)\\s+(?![^<>]*>)', '', b[3].replace('\\n', '').replace('15px', '16px')))\n",
    "    base_string_two = \"\"\"{}<br><br>{}\"\"\".format(extracted_text_definition, base_string_one)\n",
    "    return base_string_two"
   ]
  },
  {
   "cell_type": "code",
   "execution_count": 25,
   "id": "2b6d0193-e54d-4ac5-9246-d02ec21badaf",
   "metadata": {},
   "outputs": [],
   "source": [
    "#create_back_of_card(b)"
   ]
  },
  {
   "cell_type": "code",
   "execution_count": 26,
   "id": "d8455132-b39e-4f0e-b9c1-803a695e24ae",
   "metadata": {},
   "outputs": [],
   "source": [
    "def create_front_and_back(url, input_word):\n",
    "    page_html_input = retrieve_word_html(url)\n",
    "    extracted_text_word = mine_word(page_html_input)\n",
    "    type_of_speech, part_of_speech = part_of_speech_function(page_html_input)\n",
    "    extracted_text_definition = page_html_input.find(\"div\", {\"id\": \"definitionbox\"}).contents[0]#.decode_contents().replace(' color:#555',' color:#7EC8E3')\n",
    "    \n",
    "    for img in extracted_text_definition.find_all('img'):\n",
    "        img.extract()\n",
    "\n",
    "    extracted_text_definition = extracted_text_definition.decode_contents().replace(' color:#555',' color:#7EC8E3').replace('rgba(255,255,255,0.2)',  'rgba(60,150,0,0.4)').replace('#333', '#3C9600')\n",
    "    \n",
    "    if type_of_speech == 'verb':\n",
    "        a,b = extract_tenses_and_conjugations(page_html_input)\n",
    "        extracted_text_focus = extract_focus(page_html_input)\n",
    "    extracted_text_root = extract_root(page_html_input)\n",
    "    \n",
    "    #print(extracted_text_focus)\n",
    "    #print(extracted_text_root)\n",
    "    \n",
    "    if type_of_speech == 'verb':\n",
    "        if extracted_text_focus is None:\n",
    "            try:\n",
    "                extracted_text_conjugationtype = page_html_input.find('span', class_='conjugation-detail').find('span', class_='conjugation-detail-content').get_text(strip=True)\n",
    "                if extracted_text_conjugationtype == '-An':\n",
    "                    extracted_text_focus = 'Locative/Benefactive'\n",
    "            except:\n",
    "                # do a check to see if the last two letters are -an\n",
    "                print('went into the weird branch and there is no focus or conjugation type')\n",
    "                if input_word.endswith('an'):\n",
    "                    extracted_text_conjugationtype = '-An'\n",
    "                elif (input_word.startswith('ma') and input_word.endswith('an')):\n",
    "                    extracted_text_conjugationtype = 'Ma- -An'\n",
    "                else:\n",
    "                    print('and i TRIED to fit something in here but its not happening...')\n",
    "                    extracted_text_conjugationtype = ''\n",
    "        else:\n",
    "            try:\n",
    "                extracted_text_conjugationtype = page_html_input.find_all('span', class_='conjugation-detail')[1].find('span', class_='conjugation-detail-content').get_text(strip=True)\n",
    "            except:\n",
    "                print('no conjugation detail found!')\n",
    "                extracted_text_conjugationtype = ''\n",
    "    if type_of_speech == 'verb':\n",
    "        back_of_the_card = create_back_of_card(b, extracted_text_definition)\n",
    "    #base_string_one = '{}<br> <br> <span style=\"color:#f2f2dd; font-weight:bold; font-size:22px;\">Focus:</span> {}'.format(extracted_text_word, extracted_text_focus)\n",
    "    \n",
    "    if type_of_speech == 'verb':\n",
    "        base_string_one = '{}<br> <br> <span style=\"color:#f2f2dd; font-weight:bold; font-size:22px;\">Focus:</span> {}'.format(extracted_text_word, extracted_text_focus)\n",
    "        base_string_two = '{}<br> <span style=\"color:#f2f2dd; font-weight:bold; font-size:22px;\">Root:</span> {}'.format(base_string_one, extracted_text_root)\n",
    "        base_string_three = '{}<br> <span style=\"color:#f2f2dd; font-weight:bold; font-size:22px;\">Conjugation Type:</span> {}'.format(base_string_two,extracted_text_conjugationtype)\n",
    "        front_of_card = base_string_three\n",
    "        #final_back_of_card = part_of_speech + ' ' + back_of_the_card\n",
    "        final_back_of_card = back_of_the_card\n",
    "    else:\n",
    "        base_string_two = '{}<br> <br> <span style=\"color:#f2f2dd; font-weight:bold; font-size:22px;\">Root:</span> {}'.format(extracted_text_word, extracted_text_root)\n",
    "        front_of_card = base_string_two\n",
    "        #final_back_of_card = part_of_speech + ' ' + extracted_text_definition\n",
    "        final_back_of_card = extracted_text_definition\n",
    "    return front_of_card, final_back_of_card\n",
    "        \n",
    "    \n",
    "    \n",
    "    "
   ]
  },
  {
   "cell_type": "code",
   "execution_count": 27,
   "id": "54d2a004-347d-469a-8819-1976d9238d2e",
   "metadata": {},
   "outputs": [
    {
     "ename": "TypeError",
     "evalue": "create_front_and_back() missing 1 required positional argument: 'input_word'",
     "output_type": "error",
     "traceback": [
      "\u001b[0;31m---------------------------------------------------------------------------\u001b[0m",
      "\u001b[0;31mTypeError\u001b[0m                                 Traceback (most recent call last)",
      "Cell \u001b[0;32mIn[27], line 2\u001b[0m\n\u001b[1;32m      1\u001b[0m url \u001b[38;5;241m=\u001b[39m \u001b[38;5;124m'\u001b[39m\u001b[38;5;124mhttps://www.tagalog.com/dictionary/walisan\u001b[39m\u001b[38;5;124m'\u001b[39m\n\u001b[0;32m----> 2\u001b[0m front, back \u001b[38;5;241m=\u001b[39m \u001b[43mcreate_front_and_back\u001b[49m\u001b[43m(\u001b[49m\u001b[43murl\u001b[49m\u001b[43m)\u001b[49m\n\u001b[1;32m      3\u001b[0m new_card_data \u001b[38;5;241m=\u001b[39m {\n\u001b[1;32m      4\u001b[0m         \u001b[38;5;124m'\u001b[39m\u001b[38;5;124mFront\u001b[39m\u001b[38;5;124m'\u001b[39m:  front,\n\u001b[1;32m      5\u001b[0m         \u001b[38;5;124m'\u001b[39m\u001b[38;5;124mBack\u001b[39m\u001b[38;5;124m'\u001b[39m: back\n\u001b[1;32m      6\u001b[0m }\n\u001b[1;32m      9\u001b[0m \u001b[38;5;66;03m# Create a new note with the specified fields\u001b[39;00m\n",
      "\u001b[0;31mTypeError\u001b[0m: create_front_and_back() missing 1 required positional argument: 'input_word'"
     ]
    }
   ],
   "source": [
    "url = 'https://www.tagalog.com/dictionary/walisan'\n",
    "front, back = create_front_and_back(url)\n",
    "new_card_data = {\n",
    "        'Front':  front,\n",
    "        'Back': back\n",
    "}\n",
    "\n",
    "\n",
    "\n",
    "add_note_params = {\n",
    "    'note': {\n",
    "        'deckName': 'test1',  # Deck where the new card will be added\n",
    "        'modelName': 'Basic',  # Note type\n",
    "        'fields': new_card_data\n",
    "            }\n",
    "    }\n",
    "\n",
    "\n",
    "\n",
    "invoke('addNote', **add_note_params)"
   ]
  },
  {
   "cell_type": "code",
   "execution_count": 50,
   "id": "d857cbbd-8849-45f0-b957-a75c23529816",
   "metadata": {},
   "outputs": [],
   "source": [
    "def make_selenium_connection(word_of_interest):\n",
    "    chromedriver_path = '/Users/rubenverghese/bin/chromedriver'\n",
    "\n",
    "    \n",
    "    chrome_options = Options()\n",
    "    chrome_options.add_argument('--headless')  # Run Chrome in headless mode\n",
    "    # OLD VERSION?\n",
    "    #service = Service(chromedriver_path)\n",
    "    #driver = webdriver.Chrome(service=service, options=chrome_options)\n",
    "\n",
    "    \n",
    "    service = Service(ChromeDriverManager().install())\n",
    "    \n",
    "    \n",
    "    driver = webdriver.Chrome(service=service, options=chrome_options)\n",
    "\n",
    "    temp_word = '#' + str(word_of_interest)\n",
    "    \n",
    "    url = 'https://www.tagalog.com/dictionary/' + temp_word\n",
    "    \n",
    "    \n",
    "    driver.get(url)\n",
    "    \n",
    "    \n",
    "    element = WebDriverWait(driver, 10).until(\n",
    "        EC.presence_of_element_located((By.ID, 'search_result1'))\n",
    "    )\n",
    "    \n",
    "    html_content = driver.page_source\n",
    "    \n",
    "    html_after_loaded = BeautifulSoup(html_content, 'html.parser')\n",
    "    \n",
    "    # Print the found element\n",
    "    #print(\"Element found:\", element.get_attribute('outerHTML'))\n",
    "\n",
    "    \n",
    "    \n",
    "    \n",
    "    driver.quit()\n",
    "\n",
    "    \n",
    "    return html_after_loaded"
   ]
  },
  {
   "cell_type": "code",
   "execution_count": 29,
   "id": "b6b83c45-43b4-4aa6-a773-37df9f8f9f3f",
   "metadata": {},
   "outputs": [],
   "source": [
    "def extract_word_from_url(url):\n",
    "    \n",
    "    pattern = r\"https://www.tagalog.com/dictionary/(.*?)-\\d+\"\n",
    "    \n",
    "   \n",
    "    match = re.search(pattern, url)\n",
    "    \n",
    "    \n",
    "    if match:\n",
    "        word = match.group(1)\n",
    "        return word\n",
    "    else:\n",
    "        return url.split(\"/\")[-1]"
   ]
  },
  {
   "cell_type": "code",
   "execution_count": 30,
   "id": "42ed70f0-a03a-4e62-b697-0a22c6193530",
   "metadata": {},
   "outputs": [],
   "source": [
    "def find_correct_word(word, force_part_of_speech = None):\n",
    "    html_of_word = make_selenium_connection(word)\n",
    "\n",
    "    counter_to_return = None\n",
    "    \n",
    "    search_element_exists = True\n",
    "    search_counter=1\n",
    "    while search_element_exists == True:\n",
    "        if html_of_word.find(\"a\", {\"id\":\"search_result\" + str(search_counter)}) is None:\n",
    "            search_element_exists = False\n",
    "            print('no_search_element_exists')\n",
    "            counter_to_return = search_counter\n",
    "            break\n",
    "        else:\n",
    "            sub_html = html_of_word.find(\"a\", {\"id\":\"search_result\" + str(search_counter)})\n",
    "            print(force_part_of_speech)\n",
    "            if force_part_of_speech is not None:\n",
    "                print('made_it_here')\n",
    "                input_part_of_speech = '[' + str(force_part_of_speech.strip().lower()) + ']'\n",
    "                print(str(sub_html.find_parent(\"div\")).find(input_part_of_speech))\n",
    "                if str(sub_html.find_parent(\"div\")).find(input_part_of_speech) == -1:\n",
    "                    search_counter = search_counter + 1\n",
    "                    continue\n",
    "            newlink = sub_html['href']\n",
    "            curr_word = extract_word_from_url(newlink)\n",
    "            # Made this modification in this version\n",
    "            if (word == curr_word.replace('-', '').strip()) or (word == curr_word):\n",
    "                return newlink\n",
    "            else:\n",
    "                print('search_element_' + str(search_counter) + ' exists,' + 'and it is: ' + str(curr_word))\n",
    "        search_counter = search_counter + 1\n",
    "        \n",
    "    return counter_to_return"
   ]
  },
  {
   "cell_type": "code",
   "execution_count": 31,
   "id": "0d1b47b3-904a-415c-b513-581ec1fa15aa",
   "metadata": {},
   "outputs": [],
   "source": [
    "words_to_add = ['lakaran','talikuran','hanapan','hugasan','asahan','takbuhan','salihan','sundan','samahan','sigawan','tawanan','basahan','lapitan','turuan','dalhan','gawan','bawasan','bigyan','tulungan','sulatan','pakinggan','puntahan','buksan', 'lakasan', 'hayaan','walisan', 'tingnan', 'pag-usapan', 'pag-isipan', 'bilhan', 'maramdaman', 'damihan']\n",
    "words_to_add += ['mamalayan']"
   ]
  },
  {
   "cell_type": "code",
   "execution_count": 51,
   "id": "ad61c52e-35d4-4f1f-9cc2-c1faec98a7b3",
   "metadata": {},
   "outputs": [
    {
     "name": "stdout",
     "output_type": "stream",
     "text": [
      "verb\n",
      "made_it_here\n",
      "1163\n",
      "<b id=\"wordbox\" style=\"display:inline-block; margin-top:2px; letter-spacing:1px;\">lak<span style=\"  border-bottom:2px solid !important;  font-size:inherit; \">a</span>ran</b>\n"
     ]
    },
    {
     "ename": "Exception",
     "evalue": "cannot create note because it is a duplicate",
     "output_type": "error",
     "traceback": [
      "\u001b[0;31m---------------------------------------------------------------------------\u001b[0m",
      "\u001b[0;31mException\u001b[0m                                 Traceback (most recent call last)",
      "Cell \u001b[0;32mIn[51], line 24\u001b[0m\n\u001b[1;32m     14\u001b[0m add_note_params \u001b[38;5;241m=\u001b[39m {\n\u001b[1;32m     15\u001b[0m     \u001b[38;5;124m'\u001b[39m\u001b[38;5;124mnote\u001b[39m\u001b[38;5;124m'\u001b[39m: {\n\u001b[1;32m     16\u001b[0m         \u001b[38;5;124m'\u001b[39m\u001b[38;5;124mdeckName\u001b[39m\u001b[38;5;124m'\u001b[39m: \u001b[38;5;124m'\u001b[39m\u001b[38;5;124m-An Verbs in Tagalog\u001b[39m\u001b[38;5;124m'\u001b[39m,  \u001b[38;5;66;03m# Deck where the new card will be added\u001b[39;00m\n\u001b[0;32m   (...)\u001b[0m\n\u001b[1;32m     19\u001b[0m             }\n\u001b[1;32m     20\u001b[0m     }\n\u001b[1;32m     23\u001b[0m \u001b[38;5;66;03m# Add the new note to the deck\u001b[39;00m\n\u001b[0;32m---> 24\u001b[0m \u001b[43minvoke\u001b[49m\u001b[43m(\u001b[49m\u001b[38;5;124;43m'\u001b[39;49m\u001b[38;5;124;43maddNote\u001b[39;49m\u001b[38;5;124;43m'\u001b[39;49m\u001b[43m,\u001b[49m\u001b[43m \u001b[49m\u001b[38;5;241;43m*\u001b[39;49m\u001b[38;5;241;43m*\u001b[39;49m\u001b[43madd_note_params\u001b[49m\u001b[43m)\u001b[49m\n",
      "Cell \u001b[0;32mIn[1], line 18\u001b[0m, in \u001b[0;36minvoke\u001b[0;34m(action, **params)\u001b[0m\n\u001b[1;32m     16\u001b[0m     \u001b[38;5;28;01mraise\u001b[39;00m \u001b[38;5;167;01mException\u001b[39;00m(\u001b[38;5;124m'\u001b[39m\u001b[38;5;124mresponse is missing required result field\u001b[39m\u001b[38;5;124m'\u001b[39m)\n\u001b[1;32m     17\u001b[0m \u001b[38;5;28;01mif\u001b[39;00m response[\u001b[38;5;124m'\u001b[39m\u001b[38;5;124merror\u001b[39m\u001b[38;5;124m'\u001b[39m] \u001b[38;5;129;01mis\u001b[39;00m \u001b[38;5;129;01mnot\u001b[39;00m \u001b[38;5;28;01mNone\u001b[39;00m:\n\u001b[0;32m---> 18\u001b[0m     \u001b[38;5;28;01mraise\u001b[39;00m \u001b[38;5;167;01mException\u001b[39;00m(response[\u001b[38;5;124m'\u001b[39m\u001b[38;5;124merror\u001b[39m\u001b[38;5;124m'\u001b[39m])\n\u001b[1;32m     19\u001b[0m \u001b[38;5;28;01mreturn\u001b[39;00m response[\u001b[38;5;124m'\u001b[39m\u001b[38;5;124mresult\u001b[39m\u001b[38;5;124m'\u001b[39m]\n",
      "\u001b[0;31mException\u001b[0m: cannot create note because it is a duplicate"
     ]
    }
   ],
   "source": [
    "for c in words_to_add:\n",
    "    if check_if_word_exists(c):\n",
    "        print(str(c) + ' is already in the deck!')\n",
    "        continue\n",
    "    url = find_correct_word(c, 'verb')\n",
    "    front, back = create_front_and_back(url, c)\n",
    "    new_card_data = {\n",
    "            'Front':  front,\n",
    "            'Back': back\n",
    "    }\n",
    "    \n",
    "    \n",
    "    # Create a new note with the specified fields\n",
    "    add_note_params = {\n",
    "        'note': {\n",
    "            'deckName': '-An Verbs in Tagalog',  # Deck where the new card will be added\n",
    "            'modelName': 'Basic',  # Note type\n",
    "            'fields': new_card_data\n",
    "                }\n",
    "        }\n",
    "    \n",
    "    \n",
    "    # Add the new note to the deck\n",
    "    invoke('addNote', **add_note_params)"
   ]
  },
  {
   "cell_type": "code",
   "execution_count": 33,
   "id": "287066a4-e9a4-4f1d-bbc0-5549fe0fb2f8",
   "metadata": {},
   "outputs": [
    {
     "ename": "SessionNotCreatedException",
     "evalue": "Message: session not created: This version of ChromeDriver only supports Chrome version 124\nCurrent browser version is 129.0.6668.101 with binary path /Applications/Google Chrome.app/Contents/MacOS/Google Chrome\nStacktrace:\n0   chromedriver                        0x00000001024f28dc chromedriver + 4368604\n1   chromedriver                        0x00000001024ead70 chromedriver + 4337008\n2   chromedriver                        0x000000010210ec04 chromedriver + 289796\n3   chromedriver                        0x0000000102142b7c chromedriver + 502652\n4   chromedriver                        0x0000000102141e5c chromedriver + 499292\n5   chromedriver                        0x000000010213dd30 chromedriver + 482608\n6   chromedriver                        0x000000010213a704 chromedriver + 468740\n7   chromedriver                        0x00000001021791e0 chromedriver + 725472\n8   chromedriver                        0x0000000102145ab4 chromedriver + 514740\n9   chromedriver                        0x000000010214650c chromedriver + 517388\n10  chromedriver                        0x00000001024b6df8 chromedriver + 4124152\n11  chromedriver                        0x00000001024bbbe8 chromedriver + 4144104\n12  chromedriver                        0x000000010249c7c0 chromedriver + 4016064\n13  chromedriver                        0x00000001024bc518 chromedriver + 4146456\n14  chromedriver                        0x000000010248e274 chromedriver + 3957364\n15  chromedriver                        0x00000001024dbe60 chromedriver + 4275808\n16  chromedriver                        0x00000001024dbfdc chromedriver + 4276188\n17  chromedriver                        0x00000001024ea9d0 chromedriver + 4336080\n18  libsystem_pthread.dylib             0x00000001b1d7906c _pthread_start + 148\n19  libsystem_pthread.dylib             0x00000001b1d73e2c thread_start + 8\n",
     "output_type": "error",
     "traceback": [
      "\u001b[0;31m---------------------------------------------------------------------------\u001b[0m",
      "\u001b[0;31mSessionNotCreatedException\u001b[0m                Traceback (most recent call last)",
      "Cell \u001b[0;32mIn[33], line 2\u001b[0m\n\u001b[1;32m      1\u001b[0m c \u001b[38;5;241m=\u001b[39m \u001b[38;5;124m'\u001b[39m\u001b[38;5;124mbilhan\u001b[39m\u001b[38;5;124m'\u001b[39m\n\u001b[0;32m----> 2\u001b[0m url \u001b[38;5;241m=\u001b[39m \u001b[43mfind_correct_word\u001b[49m\u001b[43m(\u001b[49m\u001b[43mc\u001b[49m\u001b[43m,\u001b[49m\u001b[43m \u001b[49m\u001b[38;5;124;43m'\u001b[39;49m\u001b[38;5;124;43mverb\u001b[39;49m\u001b[38;5;124;43m'\u001b[39;49m\u001b[43m)\u001b[49m\n\u001b[1;32m      3\u001b[0m front, back \u001b[38;5;241m=\u001b[39m create_front_and_back(url, c)\n\u001b[1;32m      4\u001b[0m new_card_data \u001b[38;5;241m=\u001b[39m {\n\u001b[1;32m      5\u001b[0m         \u001b[38;5;124m'\u001b[39m\u001b[38;5;124mFront\u001b[39m\u001b[38;5;124m'\u001b[39m:  front,\n\u001b[1;32m      6\u001b[0m         \u001b[38;5;124m'\u001b[39m\u001b[38;5;124mBack\u001b[39m\u001b[38;5;124m'\u001b[39m: back\n\u001b[1;32m      7\u001b[0m }\n",
      "Cell \u001b[0;32mIn[30], line 2\u001b[0m, in \u001b[0;36mfind_correct_word\u001b[0;34m(word, force_part_of_speech)\u001b[0m\n\u001b[1;32m      1\u001b[0m \u001b[38;5;28;01mdef\u001b[39;00m \u001b[38;5;21mfind_correct_word\u001b[39m(word, force_part_of_speech \u001b[38;5;241m=\u001b[39m \u001b[38;5;28;01mNone\u001b[39;00m):\n\u001b[0;32m----> 2\u001b[0m     html_of_word \u001b[38;5;241m=\u001b[39m \u001b[43mmake_selenium_connection\u001b[49m\u001b[43m(\u001b[49m\u001b[43mword\u001b[49m\u001b[43m)\u001b[49m\n\u001b[1;32m      4\u001b[0m     counter_to_return \u001b[38;5;241m=\u001b[39m \u001b[38;5;28;01mNone\u001b[39;00m\n\u001b[1;32m      6\u001b[0m     search_element_exists \u001b[38;5;241m=\u001b[39m \u001b[38;5;28;01mTrue\u001b[39;00m\n",
      "Cell \u001b[0;32mIn[28], line 8\u001b[0m, in \u001b[0;36mmake_selenium_connection\u001b[0;34m(word_of_interest)\u001b[0m\n\u001b[1;32m      6\u001b[0m chrome_options\u001b[38;5;241m.\u001b[39madd_argument(\u001b[38;5;124m'\u001b[39m\u001b[38;5;124m--headless\u001b[39m\u001b[38;5;124m'\u001b[39m)  \u001b[38;5;66;03m# Run Chrome in headless mode\u001b[39;00m\n\u001b[1;32m      7\u001b[0m service \u001b[38;5;241m=\u001b[39m Service(chromedriver_path)\n\u001b[0;32m----> 8\u001b[0m driver \u001b[38;5;241m=\u001b[39m \u001b[43mwebdriver\u001b[49m\u001b[38;5;241;43m.\u001b[39;49m\u001b[43mChrome\u001b[49m\u001b[43m(\u001b[49m\u001b[43mservice\u001b[49m\u001b[38;5;241;43m=\u001b[39;49m\u001b[43mservice\u001b[49m\u001b[43m,\u001b[49m\u001b[43m \u001b[49m\u001b[43moptions\u001b[49m\u001b[38;5;241;43m=\u001b[39;49m\u001b[43mchrome_options\u001b[49m\u001b[43m)\u001b[49m\n\u001b[1;32m     10\u001b[0m temp_word \u001b[38;5;241m=\u001b[39m \u001b[38;5;124m'\u001b[39m\u001b[38;5;124m#\u001b[39m\u001b[38;5;124m'\u001b[39m \u001b[38;5;241m+\u001b[39m \u001b[38;5;28mstr\u001b[39m(word_of_interest)\n\u001b[1;32m     11\u001b[0m \u001b[38;5;66;03m# URL of the page\u001b[39;00m\n",
      "File \u001b[0;32m/Library/Frameworks/Python.framework/Versions/3.11/lib/python3.11/site-packages/selenium/webdriver/chrome/webdriver.py:45\u001b[0m, in \u001b[0;36mWebDriver.__init__\u001b[0;34m(self, options, service, keep_alive)\u001b[0m\n\u001b[1;32m     42\u001b[0m service \u001b[38;5;241m=\u001b[39m service \u001b[38;5;28;01mif\u001b[39;00m service \u001b[38;5;28;01melse\u001b[39;00m Service()\n\u001b[1;32m     43\u001b[0m options \u001b[38;5;241m=\u001b[39m options \u001b[38;5;28;01mif\u001b[39;00m options \u001b[38;5;28;01melse\u001b[39;00m Options()\n\u001b[0;32m---> 45\u001b[0m \u001b[38;5;28;43msuper\u001b[39;49m\u001b[43m(\u001b[49m\u001b[43m)\u001b[49m\u001b[38;5;241;43m.\u001b[39;49m\u001b[38;5;21;43m__init__\u001b[39;49m\u001b[43m(\u001b[49m\n\u001b[1;32m     46\u001b[0m \u001b[43m    \u001b[49m\u001b[43mbrowser_name\u001b[49m\u001b[38;5;241;43m=\u001b[39;49m\u001b[43mDesiredCapabilities\u001b[49m\u001b[38;5;241;43m.\u001b[39;49m\u001b[43mCHROME\u001b[49m\u001b[43m[\u001b[49m\u001b[38;5;124;43m\"\u001b[39;49m\u001b[38;5;124;43mbrowserName\u001b[39;49m\u001b[38;5;124;43m\"\u001b[39;49m\u001b[43m]\u001b[49m\u001b[43m,\u001b[49m\n\u001b[1;32m     47\u001b[0m \u001b[43m    \u001b[49m\u001b[43mvendor_prefix\u001b[49m\u001b[38;5;241;43m=\u001b[39;49m\u001b[38;5;124;43m\"\u001b[39;49m\u001b[38;5;124;43mgoog\u001b[39;49m\u001b[38;5;124;43m\"\u001b[39;49m\u001b[43m,\u001b[49m\n\u001b[1;32m     48\u001b[0m \u001b[43m    \u001b[49m\u001b[43moptions\u001b[49m\u001b[38;5;241;43m=\u001b[39;49m\u001b[43moptions\u001b[49m\u001b[43m,\u001b[49m\n\u001b[1;32m     49\u001b[0m \u001b[43m    \u001b[49m\u001b[43mservice\u001b[49m\u001b[38;5;241;43m=\u001b[39;49m\u001b[43mservice\u001b[49m\u001b[43m,\u001b[49m\n\u001b[1;32m     50\u001b[0m \u001b[43m    \u001b[49m\u001b[43mkeep_alive\u001b[49m\u001b[38;5;241;43m=\u001b[39;49m\u001b[43mkeep_alive\u001b[49m\u001b[43m,\u001b[49m\n\u001b[1;32m     51\u001b[0m \u001b[43m\u001b[49m\u001b[43m)\u001b[49m\n",
      "File \u001b[0;32m/Library/Frameworks/Python.framework/Versions/3.11/lib/python3.11/site-packages/selenium/webdriver/chromium/webdriver.py:61\u001b[0m, in \u001b[0;36mChromiumDriver.__init__\u001b[0;34m(self, browser_name, vendor_prefix, options, service, keep_alive)\u001b[0m\n\u001b[1;32m     52\u001b[0m executor \u001b[38;5;241m=\u001b[39m ChromiumRemoteConnection(\n\u001b[1;32m     53\u001b[0m     remote_server_addr\u001b[38;5;241m=\u001b[39m\u001b[38;5;28mself\u001b[39m\u001b[38;5;241m.\u001b[39mservice\u001b[38;5;241m.\u001b[39mservice_url,\n\u001b[1;32m     54\u001b[0m     browser_name\u001b[38;5;241m=\u001b[39mbrowser_name,\n\u001b[0;32m   (...)\u001b[0m\n\u001b[1;32m     57\u001b[0m     ignore_proxy\u001b[38;5;241m=\u001b[39moptions\u001b[38;5;241m.\u001b[39m_ignore_local_proxy,\n\u001b[1;32m     58\u001b[0m )\n\u001b[1;32m     60\u001b[0m \u001b[38;5;28;01mtry\u001b[39;00m:\n\u001b[0;32m---> 61\u001b[0m     \u001b[38;5;28;43msuper\u001b[39;49m\u001b[43m(\u001b[49m\u001b[43m)\u001b[49m\u001b[38;5;241;43m.\u001b[39;49m\u001b[38;5;21;43m__init__\u001b[39;49m\u001b[43m(\u001b[49m\u001b[43mcommand_executor\u001b[49m\u001b[38;5;241;43m=\u001b[39;49m\u001b[43mexecutor\u001b[49m\u001b[43m,\u001b[49m\u001b[43m \u001b[49m\u001b[43moptions\u001b[49m\u001b[38;5;241;43m=\u001b[39;49m\u001b[43moptions\u001b[49m\u001b[43m)\u001b[49m\n\u001b[1;32m     62\u001b[0m \u001b[38;5;28;01mexcept\u001b[39;00m \u001b[38;5;167;01mException\u001b[39;00m:\n\u001b[1;32m     63\u001b[0m     \u001b[38;5;28mself\u001b[39m\u001b[38;5;241m.\u001b[39mquit()\n",
      "File \u001b[0;32m/Library/Frameworks/Python.framework/Versions/3.11/lib/python3.11/site-packages/selenium/webdriver/remote/webdriver.py:208\u001b[0m, in \u001b[0;36mWebDriver.__init__\u001b[0;34m(self, command_executor, keep_alive, file_detector, options)\u001b[0m\n\u001b[1;32m    206\u001b[0m \u001b[38;5;28mself\u001b[39m\u001b[38;5;241m.\u001b[39m_authenticator_id \u001b[38;5;241m=\u001b[39m \u001b[38;5;28;01mNone\u001b[39;00m\n\u001b[1;32m    207\u001b[0m \u001b[38;5;28mself\u001b[39m\u001b[38;5;241m.\u001b[39mstart_client()\n\u001b[0;32m--> 208\u001b[0m \u001b[38;5;28;43mself\u001b[39;49m\u001b[38;5;241;43m.\u001b[39;49m\u001b[43mstart_session\u001b[49m\u001b[43m(\u001b[49m\u001b[43mcapabilities\u001b[49m\u001b[43m)\u001b[49m\n",
      "File \u001b[0;32m/Library/Frameworks/Python.framework/Versions/3.11/lib/python3.11/site-packages/selenium/webdriver/remote/webdriver.py:292\u001b[0m, in \u001b[0;36mWebDriver.start_session\u001b[0;34m(self, capabilities)\u001b[0m\n\u001b[1;32m    285\u001b[0m \u001b[38;5;250m\u001b[39m\u001b[38;5;124;03m\"\"\"Creates a new session with the desired capabilities.\u001b[39;00m\n\u001b[1;32m    286\u001b[0m \n\u001b[1;32m    287\u001b[0m \u001b[38;5;124;03m:Args:\u001b[39;00m\n\u001b[1;32m    288\u001b[0m \u001b[38;5;124;03m - capabilities - a capabilities dict to start the session with.\u001b[39;00m\n\u001b[1;32m    289\u001b[0m \u001b[38;5;124;03m\"\"\"\u001b[39;00m\n\u001b[1;32m    291\u001b[0m caps \u001b[38;5;241m=\u001b[39m _create_caps(capabilities)\n\u001b[0;32m--> 292\u001b[0m response \u001b[38;5;241m=\u001b[39m \u001b[38;5;28;43mself\u001b[39;49m\u001b[38;5;241;43m.\u001b[39;49m\u001b[43mexecute\u001b[49m\u001b[43m(\u001b[49m\u001b[43mCommand\u001b[49m\u001b[38;5;241;43m.\u001b[39;49m\u001b[43mNEW_SESSION\u001b[49m\u001b[43m,\u001b[49m\u001b[43m \u001b[49m\u001b[43mcaps\u001b[49m\u001b[43m)\u001b[49m[\u001b[38;5;124m\"\u001b[39m\u001b[38;5;124mvalue\u001b[39m\u001b[38;5;124m\"\u001b[39m]\n\u001b[1;32m    293\u001b[0m \u001b[38;5;28mself\u001b[39m\u001b[38;5;241m.\u001b[39msession_id \u001b[38;5;241m=\u001b[39m response\u001b[38;5;241m.\u001b[39mget(\u001b[38;5;124m\"\u001b[39m\u001b[38;5;124msessionId\u001b[39m\u001b[38;5;124m\"\u001b[39m)\n\u001b[1;32m    294\u001b[0m \u001b[38;5;28mself\u001b[39m\u001b[38;5;241m.\u001b[39mcaps \u001b[38;5;241m=\u001b[39m response\u001b[38;5;241m.\u001b[39mget(\u001b[38;5;124m\"\u001b[39m\u001b[38;5;124mcapabilities\u001b[39m\u001b[38;5;124m\"\u001b[39m)\n",
      "File \u001b[0;32m/Library/Frameworks/Python.framework/Versions/3.11/lib/python3.11/site-packages/selenium/webdriver/remote/webdriver.py:347\u001b[0m, in \u001b[0;36mWebDriver.execute\u001b[0;34m(self, driver_command, params)\u001b[0m\n\u001b[1;32m    345\u001b[0m response \u001b[38;5;241m=\u001b[39m \u001b[38;5;28mself\u001b[39m\u001b[38;5;241m.\u001b[39mcommand_executor\u001b[38;5;241m.\u001b[39mexecute(driver_command, params)\n\u001b[1;32m    346\u001b[0m \u001b[38;5;28;01mif\u001b[39;00m response:\n\u001b[0;32m--> 347\u001b[0m     \u001b[38;5;28;43mself\u001b[39;49m\u001b[38;5;241;43m.\u001b[39;49m\u001b[43merror_handler\u001b[49m\u001b[38;5;241;43m.\u001b[39;49m\u001b[43mcheck_response\u001b[49m\u001b[43m(\u001b[49m\u001b[43mresponse\u001b[49m\u001b[43m)\u001b[49m\n\u001b[1;32m    348\u001b[0m     response[\u001b[38;5;124m\"\u001b[39m\u001b[38;5;124mvalue\u001b[39m\u001b[38;5;124m\"\u001b[39m] \u001b[38;5;241m=\u001b[39m \u001b[38;5;28mself\u001b[39m\u001b[38;5;241m.\u001b[39m_unwrap_value(response\u001b[38;5;241m.\u001b[39mget(\u001b[38;5;124m\"\u001b[39m\u001b[38;5;124mvalue\u001b[39m\u001b[38;5;124m\"\u001b[39m, \u001b[38;5;28;01mNone\u001b[39;00m))\n\u001b[1;32m    349\u001b[0m     \u001b[38;5;28;01mreturn\u001b[39;00m response\n",
      "File \u001b[0;32m/Library/Frameworks/Python.framework/Versions/3.11/lib/python3.11/site-packages/selenium/webdriver/remote/errorhandler.py:229\u001b[0m, in \u001b[0;36mErrorHandler.check_response\u001b[0;34m(self, response)\u001b[0m\n\u001b[1;32m    227\u001b[0m         alert_text \u001b[38;5;241m=\u001b[39m value[\u001b[38;5;124m\"\u001b[39m\u001b[38;5;124malert\u001b[39m\u001b[38;5;124m\"\u001b[39m]\u001b[38;5;241m.\u001b[39mget(\u001b[38;5;124m\"\u001b[39m\u001b[38;5;124mtext\u001b[39m\u001b[38;5;124m\"\u001b[39m)\n\u001b[1;32m    228\u001b[0m     \u001b[38;5;28;01mraise\u001b[39;00m exception_class(message, screen, stacktrace, alert_text)  \u001b[38;5;66;03m# type: ignore[call-arg]  # mypy is not smart enough here\u001b[39;00m\n\u001b[0;32m--> 229\u001b[0m \u001b[38;5;28;01mraise\u001b[39;00m exception_class(message, screen, stacktrace)\n",
      "\u001b[0;31mSessionNotCreatedException\u001b[0m: Message: session not created: This version of ChromeDriver only supports Chrome version 124\nCurrent browser version is 129.0.6668.101 with binary path /Applications/Google Chrome.app/Contents/MacOS/Google Chrome\nStacktrace:\n0   chromedriver                        0x00000001024f28dc chromedriver + 4368604\n1   chromedriver                        0x00000001024ead70 chromedriver + 4337008\n2   chromedriver                        0x000000010210ec04 chromedriver + 289796\n3   chromedriver                        0x0000000102142b7c chromedriver + 502652\n4   chromedriver                        0x0000000102141e5c chromedriver + 499292\n5   chromedriver                        0x000000010213dd30 chromedriver + 482608\n6   chromedriver                        0x000000010213a704 chromedriver + 468740\n7   chromedriver                        0x00000001021791e0 chromedriver + 725472\n8   chromedriver                        0x0000000102145ab4 chromedriver + 514740\n9   chromedriver                        0x000000010214650c chromedriver + 517388\n10  chromedriver                        0x00000001024b6df8 chromedriver + 4124152\n11  chromedriver                        0x00000001024bbbe8 chromedriver + 4144104\n12  chromedriver                        0x000000010249c7c0 chromedriver + 4016064\n13  chromedriver                        0x00000001024bc518 chromedriver + 4146456\n14  chromedriver                        0x000000010248e274 chromedriver + 3957364\n15  chromedriver                        0x00000001024dbe60 chromedriver + 4275808\n16  chromedriver                        0x00000001024dbfdc chromedriver + 4276188\n17  chromedriver                        0x00000001024ea9d0 chromedriver + 4336080\n18  libsystem_pthread.dylib             0x00000001b1d7906c _pthread_start + 148\n19  libsystem_pthread.dylib             0x00000001b1d73e2c thread_start + 8\n"
     ]
    }
   ],
   "source": [
    "c = 'bilhan'\n",
    "url = find_correct_word(c, 'verb')\n",
    "front, back = create_front_and_back(url, c)\n",
    "new_card_data = {\n",
    "        'Front':  front,\n",
    "        'Back': back\n",
    "}\n",
    "\n",
    "\n",
    "\n",
    "add_note_params = {\n",
    "    'note': {\n",
    "        'deckName': '-An Verbs in Tagalog',  # Deck where the new card will be added\n",
    "        'modelName': 'Basic',  # Note type\n",
    "        'fields': new_card_data\n",
    "            }\n",
    "    }\n",
    "\n",
    "\n",
    "\n",
    "invoke('addNote', **add_note_params)"
   ]
  },
  {
   "cell_type": "code",
   "execution_count": 177,
   "id": "f68b60a3-12cc-4b5b-b0bf-fd2de293c8bf",
   "metadata": {},
   "outputs": [
    {
     "name": "stdout",
     "output_type": "stream",
     "text": [
      "verb\n",
      "made_it_here\n",
      "1163\n",
      "<b id=\"wordbox\" style=\"display:inline-block; margin-top:2px; letter-spacing:1px;\">lap<span style=\"  border-bottom:2px solid !important;  font-size:inherit; \">a</span>tan</b>\n"
     ]
    }
   ],
   "source": [
    "word_to_add_now = 'lapatan'\n",
    "if check_if_word_exists(word_to_add_now):\n",
    "        print(str(word_to_add_now) + ' is already in the deck!')\n",
    "else:\n",
    "    url = find_correct_word(word_to_add_now, 'verb')\n",
    "    front, back = create_front_and_back(url, word_to_add_now)\n",
    "    new_card_data = {\n",
    "            'Front':  front,\n",
    "            'Back': back\n",
    "    }\n",
    "    \n",
    "    \n",
    "    \n",
    "    add_note_params = {\n",
    "        'note': {\n",
    "            'deckName': '-An Verbs in Tagalog',  \n",
    "            'modelName': 'Basic',  \n",
    "            'fields': new_card_data\n",
    "                }\n",
    "        }\n",
    "    \n",
    "    \n",
    "    \n",
    "    invoke('addNote', **add_note_params)"
   ]
  },
  {
   "cell_type": "code",
   "execution_count": 122,
   "id": "b9cae1e8-0577-4846-822d-909747a14ed9",
   "metadata": {},
   "outputs": [],
   "source": [
    "words_to_add = ['kulang', 'pangit', 'matangkad', 'pandak', 'malaki', 'maliit', 'mahaba', 'maikli', 'mataba', 'payat']\n",
    "words_to_add += ['malambot', 'matigas', 'marunong', 'mahilig', 'mahal', 'mura', 'kulang', 'matalik', 'matarik']\n",
    "words_to_add += ['maalat', 'matamis', 'mapait', 'maasim', 'madulas', 'malangis', 'makinis', 'magaspang', 'walang-laman']\n",
    "words_to_add += ['puno', 'mali', 'tunay', 'tama', 'totoo', 'peke', 'huwad', 'malinis', 'marumi', 'matalino', 'masipag']\n",
    "words_to_add += ['tamad', 'malapit', 'malayo', 'galit', 'masaya', 'malungkot', 'makulit', 'maayos', 'mahina', 'malakas']\n",
    "words_to_add += ['mabaho', 'mabango', 'maingay', 'malalim', 'mababaw', 'maliwanag', 'makulimlim', 'malamig', 'mainit']\n",
    "words_to_add += ['matulungin', 'nakakainis', 'malutong', 'makunat', 'nakakayamot', 'nakatira', 'makulay', 'ningning']\n",
    "words_to_add += ['matalas', 'makati', 'matilos']\n",
    "words_to_add += ['bago', 'luma', 'mataas', 'mababa', 'mabagal', 'maaga', 'huli', 'mabigat', 'magaan', 'basa']\n",
    "words_to_add += ['masama','tuyo', 'masikip', 'maluwang', 'makapal', 'manipis', 'tapat', 'mapagbigay', 'kuripot', 'matakaw', 'mabait']\n",
    "words_to_add += ['magaling']\n",
    "words_to_add += ['matapang', 'malusog', 'duwag', 'sariwa', 'bulok', 'magulo', 'nakakatakot', 'nakakatawa', 'siksik']\n",
    "words_to_add += ['manipis','makapal', 'mabuti', 'pagod', 'mabilis', 'marami']\n",
    "words_to_add += ['madaldal', 'mahirap', 'madali', 'mabilis', 'maikli']\n",
    "words_to_add += ['mapagkakatiwalaan', 'mapagmahal', 'mapayapa', 'mahinahon', 'maulan', 'mahangin']\n",
    "words_to_add += ['mabuhangin', 'malabo', 'bagsak', 'matulis', 'mabagsik', 'malakas', 'mahinahon']\n",
    "words_to_add += ['malamlam', 'makintab', 'matibay', 'maluho', 'maluwag', 'magara', 'mabenta', 'malupit']\n",
    "words_to_add += ['matapat', 'masaya', 'maasikaso', 'maluwalhati', 'malambing', 'mapanganib', 'masakit', 'matuwa']\n"
   ]
  },
  {
   "cell_type": "code",
   "execution_count": 123,
   "id": "57f3090a-a343-4c70-9251-77b2dda8e905",
   "metadata": {
    "scrolled": true
   },
   "outputs": [
    {
     "name": "stdout",
     "output_type": "stream",
     "text": [
      "kulang is already in the deck!\n",
      "pangit is already in the deck!\n",
      "matangkad is already in the deck!\n",
      "pandak is already in the deck!\n",
      "malaki is already in the deck!\n",
      "maliit is already in the deck!\n",
      "mahaba is already in the deck!\n",
      "maikli is already in the deck!\n",
      "mataba is already in the deck!\n",
      "payat is already in the deck!\n",
      "malambot is already in the deck!\n",
      "matigas is already in the deck!\n",
      "marunong is already in the deck!\n",
      "mahilig is already in the deck!\n",
      "mahal is already in the deck!\n",
      "mura is already in the deck!\n",
      "kulang is already in the deck!\n",
      "matalik is already in the deck!\n",
      "matarik is already in the deck!\n",
      "maalat is already in the deck!\n",
      "matamis is already in the deck!\n",
      "mapait is already in the deck!\n",
      "maasim is already in the deck!\n",
      "madulas is already in the deck!\n",
      "malangis is already in the deck!\n",
      "makinis is already in the deck!\n",
      "magaspang is already in the deck!\n",
      "walang-laman is already in the deck!\n",
      "puno is already in the deck!\n",
      "mali is already in the deck!\n",
      "tunay is already in the deck!\n",
      "tama is already in the deck!\n",
      "totoo is already in the deck!\n",
      "peke is already in the deck!\n",
      "huwad is already in the deck!\n",
      "malinis is already in the deck!\n",
      "marumi is already in the deck!\n",
      "matalino is already in the deck!\n",
      "masipag is already in the deck!\n",
      "tamad is already in the deck!\n",
      "malapit is already in the deck!\n",
      "malayo is already in the deck!\n",
      "galit is already in the deck!\n",
      "masaya is already in the deck!\n",
      "malungkot is already in the deck!\n",
      "makulit is already in the deck!\n",
      "maayos is already in the deck!\n",
      "mahina is already in the deck!\n",
      "malakas is already in the deck!\n",
      "mabaho is already in the deck!\n",
      "mabango is already in the deck!\n",
      "maingay is already in the deck!\n",
      "malalim is already in the deck!\n",
      "mababaw is already in the deck!\n",
      "maliwanag is already in the deck!\n",
      "makulimlim is already in the deck!\n",
      "malamig is already in the deck!\n",
      "mainit is already in the deck!\n",
      "matulungin is already in the deck!\n",
      "nakakainis is already in the deck!\n",
      "malutong is already in the deck!\n",
      "makunat is already in the deck!\n",
      "nakakayamot is already in the deck!\n",
      "nakatira is already in the deck!\n",
      "makulay is already in the deck!\n",
      "ningning is already in the deck!\n",
      "matalas is already in the deck!\n",
      "makati is already in the deck!\n",
      "matilos is already in the deck!\n",
      "bago is already in the deck!\n",
      "luma is already in the deck!\n",
      "mataas is already in the deck!\n",
      "mababa is already in the deck!\n",
      "mabagal is already in the deck!\n",
      "maaga is already in the deck!\n",
      "huli is already in the deck!\n",
      "mabigat is already in the deck!\n",
      "magaan is already in the deck!\n",
      "basa is already in the deck!\n",
      "masama is already in the deck!\n",
      "tuyo is already in the deck!\n",
      "masikip is already in the deck!\n",
      "maluwang is already in the deck!\n",
      "makapal is already in the deck!\n",
      "manipis is already in the deck!\n",
      "tapat is already in the deck!\n",
      "mapagbigay is already in the deck!\n",
      "kuripot is already in the deck!\n",
      "matakaw is already in the deck!\n",
      "mabait is already in the deck!\n",
      "magaling is already in the deck!\n",
      "matapang is already in the deck!\n",
      "malusog is already in the deck!\n",
      "duwag is already in the deck!\n",
      "sariwa is already in the deck!\n",
      "bulok is already in the deck!\n",
      "magulo is already in the deck!\n",
      "nakakatakot is already in the deck!\n",
      "nakakatawa is already in the deck!\n",
      "siksik is already in the deck!\n",
      "manipis is already in the deck!\n",
      "makapal is already in the deck!\n",
      "mabuti is already in the deck!\n",
      "pagod is already in the deck!\n",
      "mabilis is already in the deck!\n",
      "marami is already in the deck!\n",
      "madaldal is already in the deck!\n",
      "mahirap is already in the deck!\n",
      "madali is already in the deck!\n",
      "mabilis is already in the deck!\n",
      "maikli is already in the deck!\n",
      "mapagkakatiwalaan is already in the deck!\n",
      "mapagmahal is already in the deck!\n",
      "mapayapa is already in the deck!\n",
      "mahinahon is already in the deck!\n",
      "maulan is already in the deck!\n",
      "mahangin is already in the deck!\n",
      "mabuhangin is already in the deck!\n",
      "malabo is already in the deck!\n",
      "bagsak is already in the deck!\n",
      "matulis is already in the deck!\n",
      "mabagsik is already in the deck!\n",
      "malakas is already in the deck!\n",
      "mahinahon is already in the deck!\n",
      "malamlam is already in the deck!\n",
      "makintab is already in the deck!\n",
      "matibay is already in the deck!\n",
      "maluho is already in the deck!\n",
      "maluwag is already in the deck!\n",
      "magara is already in the deck!\n",
      "mabenta is already in the deck!\n",
      "malupit is already in the deck!\n",
      "matapat is already in the deck!\n",
      "masaya is already in the deck!\n",
      "maasikaso is already in the deck!\n",
      "maluwalhati is already in the deck!\n",
      "malambing is already in the deck!\n",
      "mapanganib is already in the deck!\n",
      "masakit is already in the deck!\n",
      "None\n",
      "<b id=\"wordbox\" style=\"display:inline-block; margin-top:2px; letter-spacing:1px;\">matuw<span style=\"  border-bottom:2px solid !important;  font-size:inherit; \">â</span></b>\n"
     ]
    }
   ],
   "source": [
    "for c in words_to_add:\n",
    "    if check_if_word_exists(c):\n",
    "        print(str(c) + ' is already in the deck!')\n",
    "        continue\n",
    "    url = find_correct_word(c)\n",
    "    front, back = create_front_and_back(url)\n",
    "    new_card_data = {\n",
    "            'Front':  front,\n",
    "            'Back': back\n",
    "    }\n",
    "    \n",
    "    \n",
    "    \n",
    "    add_note_params = {\n",
    "        'note': {\n",
    "            'deckName': 'Adjectives in Tagalog',  \n",
    "            'modelName': 'Basic',  \n",
    "            'fields': new_card_data\n",
    "                }\n",
    "        }\n",
    "    \n",
    "    \n",
    "    \n",
    "    invoke('addNote', **add_note_params)"
   ]
  },
  {
   "cell_type": "code",
   "execution_count": 91,
   "id": "09522046-308e-4c3e-99c1-79b6ed57adf8",
   "metadata": {},
   "outputs": [
    {
     "name": "stdout",
     "output_type": "stream",
     "text": [
      "adjective\n",
      "made_it_here\n",
      "-1\n",
      "adjective\n",
      "made_it_here\n",
      "-1\n",
      "adjective\n",
      "made_it_here\n",
      "1336\n",
      "search_element_3 exists,and it is: makinis\n",
      "adjective\n",
      "made_it_here\n",
      "-1\n",
      "no_search_element_exists\n"
     ]
    },
    {
     "ename": "MissingSchema",
     "evalue": "Invalid URL '5': No scheme supplied. Perhaps you meant https://5?",
     "output_type": "error",
     "traceback": [
      "\u001b[0;31m---------------------------------------------------------------------------\u001b[0m",
      "\u001b[0;31mMissingSchema\u001b[0m                             Traceback (most recent call last)",
      "Cell \u001b[0;32mIn[91], line 6\u001b[0m\n\u001b[1;32m      4\u001b[0m \u001b[38;5;28;01melse\u001b[39;00m:\n\u001b[1;32m      5\u001b[0m     url \u001b[38;5;241m=\u001b[39m find_correct_word(c, \u001b[38;5;124m'\u001b[39m\u001b[38;5;124madjective\u001b[39m\u001b[38;5;124m'\u001b[39m)\n\u001b[0;32m----> 6\u001b[0m     front, back \u001b[38;5;241m=\u001b[39m \u001b[43mcreate_front_and_back\u001b[49m\u001b[43m(\u001b[49m\u001b[43murl\u001b[49m\u001b[43m)\u001b[49m\n\u001b[1;32m      7\u001b[0m     new_card_data \u001b[38;5;241m=\u001b[39m {\n\u001b[1;32m      8\u001b[0m             \u001b[38;5;124m'\u001b[39m\u001b[38;5;124mFront\u001b[39m\u001b[38;5;124m'\u001b[39m:  front,\n\u001b[1;32m      9\u001b[0m             \u001b[38;5;124m'\u001b[39m\u001b[38;5;124mBack\u001b[39m\u001b[38;5;124m'\u001b[39m: back\n\u001b[1;32m     10\u001b[0m     }\n\u001b[1;32m     13\u001b[0m     \u001b[38;5;66;03m# Create a new note with the specified fields\u001b[39;00m\n",
      "Cell \u001b[0;32mIn[65], line 2\u001b[0m, in \u001b[0;36mcreate_front_and_back\u001b[0;34m(url)\u001b[0m\n\u001b[1;32m      1\u001b[0m \u001b[38;5;28;01mdef\u001b[39;00m \u001b[38;5;21mcreate_front_and_back\u001b[39m(url):\n\u001b[0;32m----> 2\u001b[0m     page_html_input \u001b[38;5;241m=\u001b[39m \u001b[43mretrieve_word_html\u001b[49m\u001b[43m(\u001b[49m\u001b[43murl\u001b[49m\u001b[43m)\u001b[49m\n\u001b[1;32m      3\u001b[0m     extracted_text_word \u001b[38;5;241m=\u001b[39m mine_word(page_html_input)\n\u001b[1;32m      4\u001b[0m     type_of_speech, part_of_speech \u001b[38;5;241m=\u001b[39m part_of_speech_function(page_html_input)\n",
      "Cell \u001b[0;32mIn[14], line 3\u001b[0m, in \u001b[0;36mretrieve_word_html\u001b[0;34m(url)\u001b[0m\n\u001b[1;32m      1\u001b[0m \u001b[38;5;28;01mdef\u001b[39;00m \u001b[38;5;21mretrieve_word_html\u001b[39m(url):\n\u001b[1;32m      2\u001b[0m     thisurl \u001b[38;5;241m=\u001b[39m url\n\u001b[0;32m----> 3\u001b[0m     page \u001b[38;5;241m=\u001b[39m \u001b[43mrequests\u001b[49m\u001b[38;5;241;43m.\u001b[39;49m\u001b[43mget\u001b[49m\u001b[43m(\u001b[49m\u001b[43mthisurl\u001b[49m\u001b[43m)\u001b[49m\n\u001b[1;32m      4\u001b[0m     soup \u001b[38;5;241m=\u001b[39m BeautifulSoup(page\u001b[38;5;241m.\u001b[39mtext, \u001b[38;5;124m'\u001b[39m\u001b[38;5;124mhtml\u001b[39m\u001b[38;5;124m'\u001b[39m)\n\u001b[1;32m      5\u001b[0m     response \u001b[38;5;241m=\u001b[39m requests\u001b[38;5;241m.\u001b[39mget(url)\n",
      "File \u001b[0;32m/Library/Frameworks/Python.framework/Versions/3.11/lib/python3.11/site-packages/requests/api.py:73\u001b[0m, in \u001b[0;36mget\u001b[0;34m(url, params, **kwargs)\u001b[0m\n\u001b[1;32m     62\u001b[0m \u001b[38;5;28;01mdef\u001b[39;00m \u001b[38;5;21mget\u001b[39m(url, params\u001b[38;5;241m=\u001b[39m\u001b[38;5;28;01mNone\u001b[39;00m, \u001b[38;5;241m*\u001b[39m\u001b[38;5;241m*\u001b[39mkwargs):\n\u001b[1;32m     63\u001b[0m \u001b[38;5;250m    \u001b[39m\u001b[38;5;124mr\u001b[39m\u001b[38;5;124;03m\"\"\"Sends a GET request.\u001b[39;00m\n\u001b[1;32m     64\u001b[0m \n\u001b[1;32m     65\u001b[0m \u001b[38;5;124;03m    :param url: URL for the new :class:`Request` object.\u001b[39;00m\n\u001b[0;32m   (...)\u001b[0m\n\u001b[1;32m     70\u001b[0m \u001b[38;5;124;03m    :rtype: requests.Response\u001b[39;00m\n\u001b[1;32m     71\u001b[0m \u001b[38;5;124;03m    \"\"\"\u001b[39;00m\n\u001b[0;32m---> 73\u001b[0m     \u001b[38;5;28;01mreturn\u001b[39;00m \u001b[43mrequest\u001b[49m\u001b[43m(\u001b[49m\u001b[38;5;124;43m\"\u001b[39;49m\u001b[38;5;124;43mget\u001b[39;49m\u001b[38;5;124;43m\"\u001b[39;49m\u001b[43m,\u001b[49m\u001b[43m \u001b[49m\u001b[43murl\u001b[49m\u001b[43m,\u001b[49m\u001b[43m \u001b[49m\u001b[43mparams\u001b[49m\u001b[38;5;241;43m=\u001b[39;49m\u001b[43mparams\u001b[49m\u001b[43m,\u001b[49m\u001b[43m \u001b[49m\u001b[38;5;241;43m*\u001b[39;49m\u001b[38;5;241;43m*\u001b[39;49m\u001b[43mkwargs\u001b[49m\u001b[43m)\u001b[49m\n",
      "File \u001b[0;32m/Library/Frameworks/Python.framework/Versions/3.11/lib/python3.11/site-packages/requests/api.py:59\u001b[0m, in \u001b[0;36mrequest\u001b[0;34m(method, url, **kwargs)\u001b[0m\n\u001b[1;32m     55\u001b[0m \u001b[38;5;66;03m# By using the 'with' statement we are sure the session is closed, thus we\u001b[39;00m\n\u001b[1;32m     56\u001b[0m \u001b[38;5;66;03m# avoid leaving sockets open which can trigger a ResourceWarning in some\u001b[39;00m\n\u001b[1;32m     57\u001b[0m \u001b[38;5;66;03m# cases, and look like a memory leak in others.\u001b[39;00m\n\u001b[1;32m     58\u001b[0m \u001b[38;5;28;01mwith\u001b[39;00m sessions\u001b[38;5;241m.\u001b[39mSession() \u001b[38;5;28;01mas\u001b[39;00m session:\n\u001b[0;32m---> 59\u001b[0m     \u001b[38;5;28;01mreturn\u001b[39;00m \u001b[43msession\u001b[49m\u001b[38;5;241;43m.\u001b[39;49m\u001b[43mrequest\u001b[49m\u001b[43m(\u001b[49m\u001b[43mmethod\u001b[49m\u001b[38;5;241;43m=\u001b[39;49m\u001b[43mmethod\u001b[49m\u001b[43m,\u001b[49m\u001b[43m \u001b[49m\u001b[43murl\u001b[49m\u001b[38;5;241;43m=\u001b[39;49m\u001b[43murl\u001b[49m\u001b[43m,\u001b[49m\u001b[43m \u001b[49m\u001b[38;5;241;43m*\u001b[39;49m\u001b[38;5;241;43m*\u001b[39;49m\u001b[43mkwargs\u001b[49m\u001b[43m)\u001b[49m\n",
      "File \u001b[0;32m/Library/Frameworks/Python.framework/Versions/3.11/lib/python3.11/site-packages/requests/sessions.py:575\u001b[0m, in \u001b[0;36mSession.request\u001b[0;34m(self, method, url, params, data, headers, cookies, files, auth, timeout, allow_redirects, proxies, hooks, stream, verify, cert, json)\u001b[0m\n\u001b[1;32m    562\u001b[0m \u001b[38;5;66;03m# Create the Request.\u001b[39;00m\n\u001b[1;32m    563\u001b[0m req \u001b[38;5;241m=\u001b[39m Request(\n\u001b[1;32m    564\u001b[0m     method\u001b[38;5;241m=\u001b[39mmethod\u001b[38;5;241m.\u001b[39mupper(),\n\u001b[1;32m    565\u001b[0m     url\u001b[38;5;241m=\u001b[39murl,\n\u001b[0;32m   (...)\u001b[0m\n\u001b[1;32m    573\u001b[0m     hooks\u001b[38;5;241m=\u001b[39mhooks,\n\u001b[1;32m    574\u001b[0m )\n\u001b[0;32m--> 575\u001b[0m prep \u001b[38;5;241m=\u001b[39m \u001b[38;5;28;43mself\u001b[39;49m\u001b[38;5;241;43m.\u001b[39;49m\u001b[43mprepare_request\u001b[49m\u001b[43m(\u001b[49m\u001b[43mreq\u001b[49m\u001b[43m)\u001b[49m\n\u001b[1;32m    577\u001b[0m proxies \u001b[38;5;241m=\u001b[39m proxies \u001b[38;5;129;01mor\u001b[39;00m {}\n\u001b[1;32m    579\u001b[0m settings \u001b[38;5;241m=\u001b[39m \u001b[38;5;28mself\u001b[39m\u001b[38;5;241m.\u001b[39mmerge_environment_settings(\n\u001b[1;32m    580\u001b[0m     prep\u001b[38;5;241m.\u001b[39murl, proxies, stream, verify, cert\n\u001b[1;32m    581\u001b[0m )\n",
      "File \u001b[0;32m/Library/Frameworks/Python.framework/Versions/3.11/lib/python3.11/site-packages/requests/sessions.py:486\u001b[0m, in \u001b[0;36mSession.prepare_request\u001b[0;34m(self, request)\u001b[0m\n\u001b[1;32m    483\u001b[0m     auth \u001b[38;5;241m=\u001b[39m get_netrc_auth(request\u001b[38;5;241m.\u001b[39murl)\n\u001b[1;32m    485\u001b[0m p \u001b[38;5;241m=\u001b[39m PreparedRequest()\n\u001b[0;32m--> 486\u001b[0m \u001b[43mp\u001b[49m\u001b[38;5;241;43m.\u001b[39;49m\u001b[43mprepare\u001b[49m\u001b[43m(\u001b[49m\n\u001b[1;32m    487\u001b[0m \u001b[43m    \u001b[49m\u001b[43mmethod\u001b[49m\u001b[38;5;241;43m=\u001b[39;49m\u001b[43mrequest\u001b[49m\u001b[38;5;241;43m.\u001b[39;49m\u001b[43mmethod\u001b[49m\u001b[38;5;241;43m.\u001b[39;49m\u001b[43mupper\u001b[49m\u001b[43m(\u001b[49m\u001b[43m)\u001b[49m\u001b[43m,\u001b[49m\n\u001b[1;32m    488\u001b[0m \u001b[43m    \u001b[49m\u001b[43murl\u001b[49m\u001b[38;5;241;43m=\u001b[39;49m\u001b[43mrequest\u001b[49m\u001b[38;5;241;43m.\u001b[39;49m\u001b[43murl\u001b[49m\u001b[43m,\u001b[49m\n\u001b[1;32m    489\u001b[0m \u001b[43m    \u001b[49m\u001b[43mfiles\u001b[49m\u001b[38;5;241;43m=\u001b[39;49m\u001b[43mrequest\u001b[49m\u001b[38;5;241;43m.\u001b[39;49m\u001b[43mfiles\u001b[49m\u001b[43m,\u001b[49m\n\u001b[1;32m    490\u001b[0m \u001b[43m    \u001b[49m\u001b[43mdata\u001b[49m\u001b[38;5;241;43m=\u001b[39;49m\u001b[43mrequest\u001b[49m\u001b[38;5;241;43m.\u001b[39;49m\u001b[43mdata\u001b[49m\u001b[43m,\u001b[49m\n\u001b[1;32m    491\u001b[0m \u001b[43m    \u001b[49m\u001b[43mjson\u001b[49m\u001b[38;5;241;43m=\u001b[39;49m\u001b[43mrequest\u001b[49m\u001b[38;5;241;43m.\u001b[39;49m\u001b[43mjson\u001b[49m\u001b[43m,\u001b[49m\n\u001b[1;32m    492\u001b[0m \u001b[43m    \u001b[49m\u001b[43mheaders\u001b[49m\u001b[38;5;241;43m=\u001b[39;49m\u001b[43mmerge_setting\u001b[49m\u001b[43m(\u001b[49m\n\u001b[1;32m    493\u001b[0m \u001b[43m        \u001b[49m\u001b[43mrequest\u001b[49m\u001b[38;5;241;43m.\u001b[39;49m\u001b[43mheaders\u001b[49m\u001b[43m,\u001b[49m\u001b[43m \u001b[49m\u001b[38;5;28;43mself\u001b[39;49m\u001b[38;5;241;43m.\u001b[39;49m\u001b[43mheaders\u001b[49m\u001b[43m,\u001b[49m\u001b[43m \u001b[49m\u001b[43mdict_class\u001b[49m\u001b[38;5;241;43m=\u001b[39;49m\u001b[43mCaseInsensitiveDict\u001b[49m\n\u001b[1;32m    494\u001b[0m \u001b[43m    \u001b[49m\u001b[43m)\u001b[49m\u001b[43m,\u001b[49m\n\u001b[1;32m    495\u001b[0m \u001b[43m    \u001b[49m\u001b[43mparams\u001b[49m\u001b[38;5;241;43m=\u001b[39;49m\u001b[43mmerge_setting\u001b[49m\u001b[43m(\u001b[49m\u001b[43mrequest\u001b[49m\u001b[38;5;241;43m.\u001b[39;49m\u001b[43mparams\u001b[49m\u001b[43m,\u001b[49m\u001b[43m \u001b[49m\u001b[38;5;28;43mself\u001b[39;49m\u001b[38;5;241;43m.\u001b[39;49m\u001b[43mparams\u001b[49m\u001b[43m)\u001b[49m\u001b[43m,\u001b[49m\n\u001b[1;32m    496\u001b[0m \u001b[43m    \u001b[49m\u001b[43mauth\u001b[49m\u001b[38;5;241;43m=\u001b[39;49m\u001b[43mmerge_setting\u001b[49m\u001b[43m(\u001b[49m\u001b[43mauth\u001b[49m\u001b[43m,\u001b[49m\u001b[43m \u001b[49m\u001b[38;5;28;43mself\u001b[39;49m\u001b[38;5;241;43m.\u001b[39;49m\u001b[43mauth\u001b[49m\u001b[43m)\u001b[49m\u001b[43m,\u001b[49m\n\u001b[1;32m    497\u001b[0m \u001b[43m    \u001b[49m\u001b[43mcookies\u001b[49m\u001b[38;5;241;43m=\u001b[39;49m\u001b[43mmerged_cookies\u001b[49m\u001b[43m,\u001b[49m\n\u001b[1;32m    498\u001b[0m \u001b[43m    \u001b[49m\u001b[43mhooks\u001b[49m\u001b[38;5;241;43m=\u001b[39;49m\u001b[43mmerge_hooks\u001b[49m\u001b[43m(\u001b[49m\u001b[43mrequest\u001b[49m\u001b[38;5;241;43m.\u001b[39;49m\u001b[43mhooks\u001b[49m\u001b[43m,\u001b[49m\u001b[43m \u001b[49m\u001b[38;5;28;43mself\u001b[39;49m\u001b[38;5;241;43m.\u001b[39;49m\u001b[43mhooks\u001b[49m\u001b[43m)\u001b[49m\u001b[43m,\u001b[49m\n\u001b[1;32m    499\u001b[0m \u001b[43m\u001b[49m\u001b[43m)\u001b[49m\n\u001b[1;32m    500\u001b[0m \u001b[38;5;28;01mreturn\u001b[39;00m p\n",
      "File \u001b[0;32m/Library/Frameworks/Python.framework/Versions/3.11/lib/python3.11/site-packages/requests/models.py:368\u001b[0m, in \u001b[0;36mPreparedRequest.prepare\u001b[0;34m(self, method, url, headers, files, data, params, auth, cookies, hooks, json)\u001b[0m\n\u001b[1;32m    365\u001b[0m \u001b[38;5;250m\u001b[39m\u001b[38;5;124;03m\"\"\"Prepares the entire request with the given parameters.\"\"\"\u001b[39;00m\n\u001b[1;32m    367\u001b[0m \u001b[38;5;28mself\u001b[39m\u001b[38;5;241m.\u001b[39mprepare_method(method)\n\u001b[0;32m--> 368\u001b[0m \u001b[38;5;28;43mself\u001b[39;49m\u001b[38;5;241;43m.\u001b[39;49m\u001b[43mprepare_url\u001b[49m\u001b[43m(\u001b[49m\u001b[43murl\u001b[49m\u001b[43m,\u001b[49m\u001b[43m \u001b[49m\u001b[43mparams\u001b[49m\u001b[43m)\u001b[49m\n\u001b[1;32m    369\u001b[0m \u001b[38;5;28mself\u001b[39m\u001b[38;5;241m.\u001b[39mprepare_headers(headers)\n\u001b[1;32m    370\u001b[0m \u001b[38;5;28mself\u001b[39m\u001b[38;5;241m.\u001b[39mprepare_cookies(cookies)\n",
      "File \u001b[0;32m/Library/Frameworks/Python.framework/Versions/3.11/lib/python3.11/site-packages/requests/models.py:439\u001b[0m, in \u001b[0;36mPreparedRequest.prepare_url\u001b[0;34m(self, url, params)\u001b[0m\n\u001b[1;32m    436\u001b[0m     \u001b[38;5;28;01mraise\u001b[39;00m InvalidURL(\u001b[38;5;241m*\u001b[39me\u001b[38;5;241m.\u001b[39margs)\n\u001b[1;32m    438\u001b[0m \u001b[38;5;28;01mif\u001b[39;00m \u001b[38;5;129;01mnot\u001b[39;00m scheme:\n\u001b[0;32m--> 439\u001b[0m     \u001b[38;5;28;01mraise\u001b[39;00m MissingSchema(\n\u001b[1;32m    440\u001b[0m         \u001b[38;5;124mf\u001b[39m\u001b[38;5;124m\"\u001b[39m\u001b[38;5;124mInvalid URL \u001b[39m\u001b[38;5;132;01m{\u001b[39;00murl\u001b[38;5;132;01m!r}\u001b[39;00m\u001b[38;5;124m: No scheme supplied. \u001b[39m\u001b[38;5;124m\"\u001b[39m\n\u001b[1;32m    441\u001b[0m         \u001b[38;5;124mf\u001b[39m\u001b[38;5;124m\"\u001b[39m\u001b[38;5;124mPerhaps you meant https://\u001b[39m\u001b[38;5;132;01m{\u001b[39;00murl\u001b[38;5;132;01m}\u001b[39;00m\u001b[38;5;124m?\u001b[39m\u001b[38;5;124m\"\u001b[39m\n\u001b[1;32m    442\u001b[0m     )\n\u001b[1;32m    444\u001b[0m \u001b[38;5;28;01mif\u001b[39;00m \u001b[38;5;129;01mnot\u001b[39;00m host:\n\u001b[1;32m    445\u001b[0m     \u001b[38;5;28;01mraise\u001b[39;00m InvalidURL(\u001b[38;5;124mf\u001b[39m\u001b[38;5;124m\"\u001b[39m\u001b[38;5;124mInvalid URL \u001b[39m\u001b[38;5;132;01m{\u001b[39;00murl\u001b[38;5;132;01m!r}\u001b[39;00m\u001b[38;5;124m: No host supplied\u001b[39m\u001b[38;5;124m\"\u001b[39m)\n",
      "\u001b[0;31mMissingSchema\u001b[0m: Invalid URL '5': No scheme supplied. Perhaps you meant https://5?"
     ]
    }
   ],
   "source": [
    "c = 'nakakinis'\n",
    "if check_if_word_exists(c):\n",
    "    print(str(c) + ' is already in the deck!')\n",
    "else:\n",
    "    url = find_correct_word(c, 'adjective')\n",
    "    front, back = create_front_and_back(url)\n",
    "    new_card_data = {\n",
    "            'Front':  front,\n",
    "            'Back': back\n",
    "    }\n",
    "    \n",
    "    \n",
    "    \n",
    "    add_note_params = {\n",
    "        'note': {\n",
    "            'deckName': 'Adjectives in Tagalog',  \n",
    "            'modelName': 'Basic',  \n",
    "            'fields': new_card_data\n",
    "                }\n",
    "        }\n",
    "    \n",
    "    \n",
    "    \n",
    "    invoke('addNote', **add_note_params)"
   ]
  },
  {
   "cell_type": "code",
   "execution_count": null,
   "id": "31b3f09a-b917-4a0a-9cd7-04c0b370546a",
   "metadata": {},
   "outputs": [],
   "source": []
  }
 ],
 "metadata": {
  "kernelspec": {
   "display_name": "Python 3 (ipykernel)",
   "language": "python",
   "name": "python3"
  },
  "language_info": {
   "codemirror_mode": {
    "name": "ipython",
    "version": 3
   },
   "file_extension": ".py",
   "mimetype": "text/x-python",
   "name": "python",
   "nbconvert_exporter": "python",
   "pygments_lexer": "ipython3",
   "version": "3.11.4"
  }
 },
 "nbformat": 4,
 "nbformat_minor": 5
}
